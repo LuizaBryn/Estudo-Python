{
  "nbformat": 4,
  "nbformat_minor": 0,
  "metadata": {
    "colab": {
      "provenance": [],
      "collapsed_sections": [
        "bOmbYxJPnW_P",
        "4JnNi73cvnK4",
        "8VBN3z3szghD"
      ],
      "toc_visible": true,
      "authorship_tag": "ABX9TyOlNuBmvRUkAfYV8gnX/+lV",
      "include_colab_link": true
    },
    "kernelspec": {
      "name": "python3",
      "display_name": "Python 3"
    },
    "language_info": {
      "name": "python"
    }
  },
  "cells": [
    {
      "cell_type": "markdown",
      "metadata": {
        "id": "view-in-github",
        "colab_type": "text"
      },
      "source": [
        "<a href=\"https://colab.research.google.com/github/LuizaBryn/Estudo-Python/blob/main/estudo_data_science.ipynb\" target=\"_parent\"><img src=\"https://colab.research.google.com/assets/colab-badge.svg\" alt=\"Open In Colab\"/></a>"
      ]
    },
    {
      "cell_type": "markdown",
      "source": [
        "## Mapeando Valores"
      ],
      "metadata": {
        "id": "bOmbYxJPnW_P"
      }
    },
    {
      "cell_type": "code",
      "execution_count": null,
      "metadata": {
        "id": "Ls3seZhSd0wK"
      },
      "outputs": [],
      "source": [
        "# FORMATO\n",
        "# map(<lambda function>, iterador)"
      ]
    },
    {
      "cell_type": "code",
      "source": [
        "notas = [6.0, 7.0, 9.0, 5.5, 8.0]\n",
        "qualitativo = 0.5"
      ],
      "metadata": {
        "id": "DPrdnur6nJq3"
      },
      "execution_count": null,
      "outputs": []
    },
    {
      "cell_type": "code",
      "source": [
        "notas_atualizadas = map(lambda x: x + qualitativo, notas)\n",
        "notas_atualizadas"
      ],
      "metadata": {
        "colab": {
          "base_uri": "https://localhost:8080/"
        },
        "id": "0y7mU4gFnz8u",
        "outputId": "b26f85da-3c78-42e4-b604-c28f6f68412b"
      },
      "execution_count": null,
      "outputs": [
        {
          "output_type": "execute_result",
          "data": {
            "text/plain": [
              "<map at 0x7837e2e69fc0>"
            ]
          },
          "metadata": {},
          "execution_count": 3
        }
      ]
    },
    {
      "cell_type": "code",
      "source": [
        "notas_atualizadas = list(notas_atualizadas)\n",
        "notas_atualizadas"
      ],
      "metadata": {
        "colab": {
          "base_uri": "https://localhost:8080/"
        },
        "id": "IpCAH67voVI0",
        "outputId": "5ddb7050-c57b-47fa-81a5-56cfc63a0134"
      },
      "execution_count": null,
      "outputs": [
        {
          "output_type": "execute_result",
          "data": {
            "text/plain": [
              "[6.0, 6.5, 7.5, 8.5, 9.5]"
            ]
          },
          "metadata": {},
          "execution_count": 4
        }
      ]
    },
    {
      "cell_type": "markdown",
      "source": [
        "##Situação problema - funções"
      ],
      "metadata": {
        "id": "4JnNi73cvnK4"
      }
    },
    {
      "cell_type": "markdown",
      "source": [
        "Criar um código que calcula os gastos de uma viagem para um das quatro cidades partindo de Recife, sendo elas: Salvador, Fortaleza, Natal e Aracaju.\n",
        "O custo da diária do hotel é de 150 reais em todas elas e o consumo de gasolina na viagem de carro é de 14 km/l, sendo que o valor da gasolina é de 5 reais o litro. O gastos com passeios e alimentação a se fazer em cada uma delas por dia seria de [200, 400, 250, 300], respectivamente.\n",
        "\n",
        "Sabendo que as distâncias entre Recife e cada uma das cidades é de aproximadamente [850, 800, 300, 550] km, crie três funções nas quais: a 1ª função calcule os gastos com hotel (gasto_hotel), a 2ª calcule os gastos com a gasolina (gasto_gasolina) e a 3ª os gastos com passeio e alimentação (gasto_passeio).\n",
        "\n",
        "Para testar, simule uma viagem de 3 dias para Salvador partindo de Recife. Considere a viagem de ida e volta de carro.\n"
      ],
      "metadata": {
        "id": "OZiTBEx4pAra"
      }
    },
    {
      "cell_type": "code",
      "source": [
        "#Definição de variaveis\n",
        "valor_gasolina = 5\n",
        "diaria_hotel = 150\n",
        "gastos_passeio = {\"Salvador\": 200, \"Fortaleza\": 400, \"Natal\": 250, \"Aracaju\": 300}\n",
        "distancia = {\"Salvador\": 850, \"Fortaleza\": 800, \"Natal\": 300, \"Aracaju\": 550}\n",
        "\n",
        "#Entradas\n",
        "dias = int(input(\"A viagem terá quantos dias? \"))\n",
        "cidade = input(\"Qual a cidade de destino? \")"
      ],
      "metadata": {
        "colab": {
          "base_uri": "https://localhost:8080/"
        },
        "id": "nfT6o2B3qA3G",
        "outputId": "e2d6df40-5dc0-4756-cc1b-92d4a5e58067"
      },
      "execution_count": null,
      "outputs": [
        {
          "name": "stdout",
          "output_type": "stream",
          "text": [
            "A viagem terá quantos dias? 3\n",
            "Qual a cidade de destino? Salvador\n"
          ]
        }
      ]
    },
    {
      "cell_type": "code",
      "source": [
        "# Gastos com hotel\n",
        "gasto_hotel = lambda x: x * diaria_hotel\n",
        "x = gasto_hotel(dias)"
      ],
      "metadata": {
        "id": "Nrz43un2rzqI"
      },
      "execution_count": null,
      "outputs": []
    },
    {
      "cell_type": "code",
      "source": [
        "# Gastos com gasolina\n",
        "def gasto_gasolina():\n",
        "  dist = distancia[cidade]\n",
        "  valor = dist/14 * valor_gasolina\n",
        "  valor = valor*2\n",
        "  return round(valor,2)\n",
        "\n",
        "y = gasto_gasolina()\n"
      ],
      "metadata": {
        "id": "D8KC08iasdQp"
      },
      "execution_count": null,
      "outputs": []
    },
    {
      "cell_type": "code",
      "source": [
        "# Gastos com passeios e alimentação\n",
        "def gasto_passeio():\n",
        "  valor = gastos_passeio[cidade]\n",
        "  valor = dias*valor\n",
        "  return valor\n",
        "\n",
        "z = gasto_passeio()"
      ],
      "metadata": {
        "id": "A558JHYfuEbu"
      },
      "execution_count": null,
      "outputs": []
    },
    {
      "cell_type": "code",
      "source": [
        "total = x+y+z\n",
        "total"
      ],
      "metadata": {
        "colab": {
          "base_uri": "https://localhost:8080/"
        },
        "id": "so4FJ72UveDX",
        "outputId": "b81c9781-a712-47d3-8b86-1a476e0cf6f3"
      },
      "execution_count": null,
      "outputs": [
        {
          "output_type": "execute_result",
          "data": {
            "text/plain": [
              "1657.1399999999999"
            ]
          },
          "metadata": {},
          "execution_count": 27
        }
      ]
    },
    {
      "cell_type": "markdown",
      "source": [
        "## List comprehension"
      ],
      "metadata": {
        "id": "8VBN3z3szghD"
      }
    },
    {
      "cell_type": "markdown",
      "source": [
        "####Formato Padrão:"
      ],
      "metadata": {
        "id": "z8woxkzKzprk"
      }
    },
    {
      "cell_type": "code",
      "source": [
        "list_comprehension = [<expressão> for <item> in <lista>]"
      ],
      "metadata": {
        "id": "FwCbzKpaznK-"
      },
      "execution_count": null,
      "outputs": []
    },
    {
      "cell_type": "markdown",
      "source": [
        "###Situação exemplo de uso"
      ],
      "metadata": {
        "id": "Wsc7e-c80Elb"
      }
    },
    {
      "cell_type": "code",
      "source": [
        "lista_notas = [[0.0, 9.0, 7.6, 6.5],\n",
        " [7.0, 8.7, 4.0, 3.4],\n",
        "  [9.6, 8.5, 5.4, 7.4],\n",
        "   [9.7, 2.4, 6.4, 8.4]]"
      ],
      "metadata": {
        "id": "PnJPSCPdz79T"
      },
      "execution_count": null,
      "outputs": []
    },
    {
      "cell_type": "code",
      "source": [
        "def calcular_media(notas_dadas: list):\n",
        "  soma = sum(notas_dadas)\n",
        "  media = soma/len(notas_dadas)\n",
        "  return media"
      ],
      "metadata": {
        "id": "A6AGctJb1L1k"
      },
      "execution_count": null,
      "outputs": []
    },
    {
      "cell_type": "code",
      "source": [
        "#list comprehension\n",
        "lista_medias = [round(calcular_media(notas),1) for notas in lista_notas]\n",
        "lista_medias"
      ],
      "metadata": {
        "colab": {
          "base_uri": "https://localhost:8080/"
        },
        "id": "7xdaKsYa10aP",
        "outputId": "5d3c9513-4c60-4928-d2a3-c9b789032a46"
      },
      "execution_count": null,
      "outputs": [
        {
          "output_type": "execute_result",
          "data": {
            "text/plain": [
              "[5.8, 5.8, 7.7, 6.7]"
            ]
          },
          "metadata": {},
          "execution_count": 35
        }
      ]
    },
    {
      "cell_type": "markdown",
      "source": [
        "##Tratamento de erros"
      ],
      "metadata": {
        "id": "iBns1NeWttPU"
      }
    },
    {
      "cell_type": "code",
      "source": [
        "alunos = ['Maria', 'Luiza', 'Matheus', 'Joana', 'Viviane']\n",
        "notas = [9, 9, 7, 8, 4]\n",
        "\n",
        "alunos_notas = {alunos[i]: notas[i] for i in range(len(notas))}\n",
        "alunos_notas"
      ],
      "metadata": {
        "colab": {
          "base_uri": "https://localhost:8080/"
        },
        "id": "xElgz92FvTtL",
        "outputId": "373dc08d-6e91-4f54-e75a-8723f6ad9660"
      },
      "execution_count": 4,
      "outputs": [
        {
          "output_type": "execute_result",
          "data": {
            "text/plain": [
              "{'Maria': 9, 'Luiza': 9, 'Matheus': 7, 'Joana': 8, 'Viviane': 4}"
            ]
          },
          "metadata": {},
          "execution_count": 4
        }
      ]
    },
    {
      "cell_type": "code",
      "source": [
        "def consulta_nota():\n",
        "  try:\n",
        "    nome = input(\"Insira um nome válido: \")\n",
        "    resposta = alunos_notas[nome]\n",
        "  except KeyError as e:\n",
        "    print(f\"Estudante {e} não matriculado(a) na turma\")\n",
        "  else:\n",
        "    print(resposta)\n",
        "  finally:\n",
        "    print(\"A consulta foi encerrada...\")\n",
        "\n",
        "consulta_nota()"
      ],
      "metadata": {
        "colab": {
          "base_uri": "https://localhost:8080/"
        },
        "id": "ctVCsBQytzR_",
        "outputId": "1817ef9f-5d9f-4631-bcd4-a1e7360321fd"
      },
      "execution_count": 10,
      "outputs": [
        {
          "output_type": "stream",
          "name": "stdout",
          "text": [
            "Insira um nome válido: Luiza\n",
            "9\n"
          ]
        }
      ]
    },
    {
      "cell_type": "code",
      "source": [],
      "metadata": {
        "id": "tl0cDWW8xopy"
      },
      "execution_count": null,
      "outputs": []
    },
    {
      "cell_type": "markdown",
      "source": [],
      "metadata": {
        "id": "Gc2GWSSCyKGa"
      }
    }
  ]
}